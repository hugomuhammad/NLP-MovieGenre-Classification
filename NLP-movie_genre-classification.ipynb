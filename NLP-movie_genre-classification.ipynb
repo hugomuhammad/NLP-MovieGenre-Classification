{
  "nbformat": 4,
  "nbformat_minor": 2,
  "metadata": {
    "colab": {
      "name": "Submission_NLP1.ipynb",
      "provenance": [],
      "collapsed_sections": []
    },
    "kernelspec": {
      "name": "python3",
      "display_name": "Python 3.9.6 64-bit ('tf2.5': conda)"
    },
    "language_info": {
      "name": "python",
      "version": "3.9.6",
      "mimetype": "text/x-python",
      "codemirror_mode": {
        "name": "ipython",
        "version": 3
      },
      "pygments_lexer": "ipython3",
      "nbconvert_exporter": "python",
      "file_extension": ".py"
    },
    "accelerator": "GPU",
    "interpreter": {
      "hash": "af1f7af7d3b04cb7a52a9eb5ab94d553d74de378fa8f4df8455ffb8f6dba7701"
    }
  },
  "cells": [
    {
      "cell_type": "markdown",
      "source": [
        "# Natural Language Processing Project\n",
        "\n",
        "## Movie Genre Classification\n",
        "\n",
        "In this project we will do natural language processing. We have a dataset of movies synopsis and their genres. \n",
        "\n",
        "Now our goal is to create a machine learning model that is capable to recognize movies genres from their synopsis"
      ],
      "metadata": {
        "id": "awn3U7rA8drQ"
      }
    },
    {
      "cell_type": "markdown",
      "source": [
        "# Download dataset\n",
        "\n",
        "First we need to download our dataset. \n",
        "\n",
        "In this case we are going to use a movie dataset from kaggle"
      ],
      "metadata": {
        "id": "rHJvYDlA4p2C"
      }
    },
    {
      "cell_type": "code",
      "execution_count": 37,
      "source": [
        "!pip3 install nltk"
      ],
      "outputs": [
        {
          "output_type": "stream",
          "name": "stdout",
          "text": [
            "Collecting nltk\n",
            "  Downloading nltk-3.6.3-py3-none-any.whl (1.5 MB)\n",
            "\u001b[K     |████████████████████████████████| 1.5 MB 1.8 MB/s \n",
            "\u001b[?25hRequirement already satisfied: joblib in /Users/muhammadhugo/miniforge3/envs/tf2.5/lib/python3.9/site-packages (from nltk) (1.0.1)\n",
            "Collecting regex\n",
            "  Downloading regex-2021.9.24.tar.gz (703 kB)\n",
            "\u001b[K     |████████████████████████████████| 703 kB 1.6 MB/s \n",
            "\u001b[?25hRequirement already satisfied: click in /Users/muhammadhugo/miniforge3/envs/tf2.5/lib/python3.9/site-packages (from nltk) (8.0.1)\n",
            "Requirement already satisfied: tqdm in /Users/muhammadhugo/miniforge3/envs/tf2.5/lib/python3.9/site-packages (from nltk) (4.62.0)\n",
            "Building wheels for collected packages: regex\n",
            "  Building wheel for regex (setup.py) ... \u001b[?25ldone\n",
            "\u001b[?25h  Created wheel for regex: filename=regex-2021.9.24-cp39-cp39-macosx_11_1_arm64.whl size=273875 sha256=e8670b198fcdc43e322e331e92ed7fa3ef0e270e28ceaad6ffcccefe59aec0fd\n",
            "  Stored in directory: /Users/muhammadhugo/Library/Caches/pip/wheels/a4/2e/bd/2d745991d2809f3da09f1c9aeb6746d1d5ec6c6da295033bdd\n",
            "Successfully built regex\n",
            "Installing collected packages: regex, nltk\n",
            "Successfully installed nltk-3.6.3 regex-2021.9.24\n"
          ]
        }
      ],
      "metadata": {}
    },
    {
      "cell_type": "code",
      "execution_count": 2,
      "source": [
        "#downloading dataset from kaggle\n",
        "!kaggle datasets download -d lokkagle/movie-genre-data"
      ],
      "outputs": [
        {
          "output_type": "stream",
          "name": "stdout",
          "text": [
            "Warning: Your Kaggle API key is readable by other users on this system! To fix this, you can run 'chmod 600 /Users/muhammadhugo/.kaggle/kaggle.json'\n",
            "Downloading movie-genre-data.zip to /Users/muhammadhugo/Documents/Submission_NLP1\n",
            "100%|██████████████████████████████████████| 9.46M/9.46M [00:04<00:00, 2.52MB/s]\n",
            "100%|██████████████████████████████████████| 9.46M/9.46M [00:04<00:00, 2.31MB/s]\n"
          ]
        }
      ],
      "metadata": {
        "colab": {
          "base_uri": "https://localhost:8080/"
        },
        "id": "0w6o8Tm6uw5S",
        "outputId": "f4ac65cb-b36d-4db6-f242-3e4a605d5b5d"
      }
    },
    {
      "cell_type": "markdown",
      "source": [
        "The downloaded dataset is still in a zip file format, therefore we need to zip it"
      ],
      "metadata": {}
    },
    {
      "cell_type": "code",
      "execution_count": 3,
      "source": [
        "#unzipping file\n",
        "! unzip movie-genre-data.zip"
      ],
      "outputs": [
        {
          "output_type": "stream",
          "name": "stdout",
          "text": [
            "Archive:  movie-genre-data.zip\n",
            "  inflating: kaggle_movie_train.csv  \n"
          ]
        }
      ],
      "metadata": {
        "colab": {
          "base_uri": "https://localhost:8080/"
        },
        "id": "yOrpTmnu1y6o",
        "outputId": "ac5aac47-7bfd-4565-a163-063cc5bf58b3"
      }
    },
    {
      "cell_type": "markdown",
      "source": [
        "# Preprocessing data\n"
      ],
      "metadata": {
        "id": "L55irGpo4wbR"
      }
    },
    {
      "cell_type": "code",
      "execution_count": 4,
      "source": [
        "#import library \n",
        "\n",
        "import pandas as pd\n",
        "import tensorflow as tf\n",
        "from tensorflow.keras.preprocessing.text import Tokenizer\n",
        "from tensorflow.keras.preprocessing.sequence import pad_sequences\n",
        "import matplotlib.pyplot as plt\n"
      ],
      "outputs": [],
      "metadata": {
        "id": "nTSQTrJ74b_A"
      }
    },
    {
      "cell_type": "code",
      "execution_count": 47,
      "source": [
        "df = pd.read_csv('kaggle_movie_train.csv')\n",
        "df.tail()"
      ],
      "outputs": [
        {
          "output_type": "execute_result",
          "data": {
            "text/html": [
              "<div>\n",
              "<style scoped>\n",
              "    .dataframe tbody tr th:only-of-type {\n",
              "        vertical-align: middle;\n",
              "    }\n",
              "\n",
              "    .dataframe tbody tr th {\n",
              "        vertical-align: top;\n",
              "    }\n",
              "\n",
              "    .dataframe thead th {\n",
              "        text-align: right;\n",
              "    }\n",
              "</style>\n",
              "<table border=\"1\" class=\"dataframe\">\n",
              "  <thead>\n",
              "    <tr style=\"text-align: right;\">\n",
              "      <th></th>\n",
              "      <th>id</th>\n",
              "      <th>text</th>\n",
              "      <th>genre</th>\n",
              "    </tr>\n",
              "  </thead>\n",
              "  <tbody>\n",
              "    <tr>\n",
              "      <th>22574</th>\n",
              "      <td>28161</td>\n",
              "      <td>n in the world to decide what I'm going to do ...</td>\n",
              "      <td>drama</td>\n",
              "    </tr>\n",
              "    <tr>\n",
              "      <th>22575</th>\n",
              "      <td>28162</td>\n",
              "      <td>shards. BOJO LAZ! Laz pushes Deke back through...</td>\n",
              "      <td>drama</td>\n",
              "    </tr>\n",
              "    <tr>\n",
              "      <th>22576</th>\n",
              "      <td>28163</td>\n",
              "      <td>OTTIE You've got a thing about Ernie's, haven'...</td>\n",
              "      <td>thriller</td>\n",
              "    </tr>\n",
              "    <tr>\n",
              "      <th>22577</th>\n",
              "      <td>28165</td>\n",
              "      <td>....with marked skill and dexterity . LANA wry...</td>\n",
              "      <td>action</td>\n",
              "    </tr>\n",
              "    <tr>\n",
              "      <th>22578</th>\n",
              "      <td>28166</td>\n",
              "      <td>rd walks off down the hallway, leaving his pos...</td>\n",
              "      <td>comedy</td>\n",
              "    </tr>\n",
              "  </tbody>\n",
              "</table>\n",
              "</div>"
            ],
            "text/plain": [
              "          id                                               text     genre\n",
              "22574  28161  n in the world to decide what I'm going to do ...     drama\n",
              "22575  28162  shards. BOJO LAZ! Laz pushes Deke back through...     drama\n",
              "22576  28163  OTTIE You've got a thing about Ernie's, haven'...  thriller\n",
              "22577  28165  ....with marked skill and dexterity . LANA wry...    action\n",
              "22578  28166  rd walks off down the hallway, leaving his pos...    comedy"
            ]
          },
          "metadata": {},
          "execution_count": 47
        }
      ],
      "metadata": {
        "colab": {
          "base_uri": "https://localhost:8080/",
          "height": 204
        },
        "id": "-ptXn2jB4Jsc",
        "outputId": "368e1677-d829-4269-aabf-697e04beb0c8"
      }
    },
    {
      "cell_type": "code",
      "execution_count": 9,
      "source": [
        "#checking the missing value\n",
        "new_df.isnull().sum()"
      ],
      "outputs": [
        {
          "output_type": "execute_result",
          "data": {
            "text/plain": [
              "id           0\n",
              "text         0\n",
              "genre        0\n",
              "action       0\n",
              "adventure    0\n",
              "comedy       0\n",
              "drama        0\n",
              "horror       0\n",
              "other        0\n",
              "romance      0\n",
              "sci-fi       0\n",
              "thriller     0\n",
              "dtype: int64"
            ]
          },
          "metadata": {},
          "execution_count": 9
        }
      ],
      "metadata": {
        "colab": {
          "base_uri": "https://localhost:8080/"
        },
        "id": "6qhGOS_V62XJ",
        "outputId": "4a9fa48b-f5ba-4edf-9aa6-bbed9c19fe50"
      }
    },
    {
      "cell_type": "markdown",
      "source": [
        "a lot of machine learning algorithms cannot work with categorical data directly. The categories must be converted into numbers.\n",
        "\n",
        "The best way to do that is to make one hot encoding on genre column"
      ],
      "metadata": {}
    },
    {
      "cell_type": "code",
      "execution_count": 48,
      "source": [
        "#one hot encoding \n",
        "genre = pd.get_dummies(df.genre)\n",
        "genre.head()"
      ],
      "outputs": [
        {
          "output_type": "execute_result",
          "data": {
            "text/html": [
              "<div>\n",
              "<style scoped>\n",
              "    .dataframe tbody tr th:only-of-type {\n",
              "        vertical-align: middle;\n",
              "    }\n",
              "\n",
              "    .dataframe tbody tr th {\n",
              "        vertical-align: top;\n",
              "    }\n",
              "\n",
              "    .dataframe thead th {\n",
              "        text-align: right;\n",
              "    }\n",
              "</style>\n",
              "<table border=\"1\" class=\"dataframe\">\n",
              "  <thead>\n",
              "    <tr style=\"text-align: right;\">\n",
              "      <th></th>\n",
              "      <th>action</th>\n",
              "      <th>adventure</th>\n",
              "      <th>comedy</th>\n",
              "      <th>drama</th>\n",
              "      <th>horror</th>\n",
              "      <th>other</th>\n",
              "      <th>romance</th>\n",
              "      <th>sci-fi</th>\n",
              "      <th>thriller</th>\n",
              "    </tr>\n",
              "  </thead>\n",
              "  <tbody>\n",
              "    <tr>\n",
              "      <th>0</th>\n",
              "      <td>0</td>\n",
              "      <td>0</td>\n",
              "      <td>0</td>\n",
              "      <td>0</td>\n",
              "      <td>0</td>\n",
              "      <td>0</td>\n",
              "      <td>0</td>\n",
              "      <td>0</td>\n",
              "      <td>1</td>\n",
              "    </tr>\n",
              "    <tr>\n",
              "      <th>1</th>\n",
              "      <td>0</td>\n",
              "      <td>0</td>\n",
              "      <td>1</td>\n",
              "      <td>0</td>\n",
              "      <td>0</td>\n",
              "      <td>0</td>\n",
              "      <td>0</td>\n",
              "      <td>0</td>\n",
              "      <td>0</td>\n",
              "    </tr>\n",
              "    <tr>\n",
              "      <th>2</th>\n",
              "      <td>0</td>\n",
              "      <td>0</td>\n",
              "      <td>0</td>\n",
              "      <td>1</td>\n",
              "      <td>0</td>\n",
              "      <td>0</td>\n",
              "      <td>0</td>\n",
              "      <td>0</td>\n",
              "      <td>0</td>\n",
              "    </tr>\n",
              "    <tr>\n",
              "      <th>3</th>\n",
              "      <td>0</td>\n",
              "      <td>0</td>\n",
              "      <td>0</td>\n",
              "      <td>0</td>\n",
              "      <td>0</td>\n",
              "      <td>0</td>\n",
              "      <td>0</td>\n",
              "      <td>0</td>\n",
              "      <td>1</td>\n",
              "    </tr>\n",
              "    <tr>\n",
              "      <th>4</th>\n",
              "      <td>0</td>\n",
              "      <td>0</td>\n",
              "      <td>0</td>\n",
              "      <td>1</td>\n",
              "      <td>0</td>\n",
              "      <td>0</td>\n",
              "      <td>0</td>\n",
              "      <td>0</td>\n",
              "      <td>0</td>\n",
              "    </tr>\n",
              "  </tbody>\n",
              "</table>\n",
              "</div>"
            ],
            "text/plain": [
              "   action  adventure  comedy  drama  horror  other  romance  sci-fi  thriller\n",
              "0       0          0       0      0       0      0        0       0         1\n",
              "1       0          0       1      0       0      0        0       0         0\n",
              "2       0          0       0      1       0      0        0       0         0\n",
              "3       0          0       0      0       0      0        0       0         1\n",
              "4       0          0       0      1       0      0        0       0         0"
            ]
          },
          "metadata": {},
          "execution_count": 48
        }
      ],
      "metadata": {
        "colab": {
          "base_uri": "https://localhost:8080/",
          "height": 204
        },
        "id": "K6BkKCal4n9M",
        "outputId": "9fccf0ed-c715-44a2-a142-4cade173de63"
      }
    },
    {
      "cell_type": "code",
      "execution_count": 49,
      "source": [
        "#merge the movie dataframe with one hot encoding results\n",
        "new_df = pd.concat([df, genre], axis=1)\n",
        "new_df.head()"
      ],
      "outputs": [
        {
          "output_type": "execute_result",
          "data": {
            "text/html": [
              "<div>\n",
              "<style scoped>\n",
              "    .dataframe tbody tr th:only-of-type {\n",
              "        vertical-align: middle;\n",
              "    }\n",
              "\n",
              "    .dataframe tbody tr th {\n",
              "        vertical-align: top;\n",
              "    }\n",
              "\n",
              "    .dataframe thead th {\n",
              "        text-align: right;\n",
              "    }\n",
              "</style>\n",
              "<table border=\"1\" class=\"dataframe\">\n",
              "  <thead>\n",
              "    <tr style=\"text-align: right;\">\n",
              "      <th></th>\n",
              "      <th>id</th>\n",
              "      <th>text</th>\n",
              "      <th>genre</th>\n",
              "      <th>action</th>\n",
              "      <th>adventure</th>\n",
              "      <th>comedy</th>\n",
              "      <th>drama</th>\n",
              "      <th>horror</th>\n",
              "      <th>other</th>\n",
              "      <th>romance</th>\n",
              "      <th>sci-fi</th>\n",
              "      <th>thriller</th>\n",
              "    </tr>\n",
              "  </thead>\n",
              "  <tbody>\n",
              "    <tr>\n",
              "      <th>0</th>\n",
              "      <td>0</td>\n",
              "      <td>eady dead, maybe even wishing he was. INT. 2ND...</td>\n",
              "      <td>thriller</td>\n",
              "      <td>0</td>\n",
              "      <td>0</td>\n",
              "      <td>0</td>\n",
              "      <td>0</td>\n",
              "      <td>0</td>\n",
              "      <td>0</td>\n",
              "      <td>0</td>\n",
              "      <td>0</td>\n",
              "      <td>1</td>\n",
              "    </tr>\n",
              "    <tr>\n",
              "      <th>1</th>\n",
              "      <td>2</td>\n",
              "      <td>t, summa cum laude and all. And I'm about to l...</td>\n",
              "      <td>comedy</td>\n",
              "      <td>0</td>\n",
              "      <td>0</td>\n",
              "      <td>1</td>\n",
              "      <td>0</td>\n",
              "      <td>0</td>\n",
              "      <td>0</td>\n",
              "      <td>0</td>\n",
              "      <td>0</td>\n",
              "      <td>0</td>\n",
              "    </tr>\n",
              "    <tr>\n",
              "      <th>2</th>\n",
              "      <td>3</td>\n",
              "      <td>up Come, I have a surprise.... She takes him ...</td>\n",
              "      <td>drama</td>\n",
              "      <td>0</td>\n",
              "      <td>0</td>\n",
              "      <td>0</td>\n",
              "      <td>1</td>\n",
              "      <td>0</td>\n",
              "      <td>0</td>\n",
              "      <td>0</td>\n",
              "      <td>0</td>\n",
              "      <td>0</td>\n",
              "    </tr>\n",
              "    <tr>\n",
              "      <th>3</th>\n",
              "      <td>4</td>\n",
              "      <td>ded by the two detectives. INT. JEFF'S APARTME...</td>\n",
              "      <td>thriller</td>\n",
              "      <td>0</td>\n",
              "      <td>0</td>\n",
              "      <td>0</td>\n",
              "      <td>0</td>\n",
              "      <td>0</td>\n",
              "      <td>0</td>\n",
              "      <td>0</td>\n",
              "      <td>0</td>\n",
              "      <td>1</td>\n",
              "    </tr>\n",
              "    <tr>\n",
              "      <th>4</th>\n",
              "      <td>5</td>\n",
              "      <td>nd dismounts, just as the other children reach...</td>\n",
              "      <td>drama</td>\n",
              "      <td>0</td>\n",
              "      <td>0</td>\n",
              "      <td>0</td>\n",
              "      <td>1</td>\n",
              "      <td>0</td>\n",
              "      <td>0</td>\n",
              "      <td>0</td>\n",
              "      <td>0</td>\n",
              "      <td>0</td>\n",
              "    </tr>\n",
              "  </tbody>\n",
              "</table>\n",
              "</div>"
            ],
            "text/plain": [
              "   id                                               text     genre  action  \\\n",
              "0   0  eady dead, maybe even wishing he was. INT. 2ND...  thriller       0   \n",
              "1   2  t, summa cum laude and all. And I'm about to l...    comedy       0   \n",
              "2   3   up Come, I have a surprise.... She takes him ...     drama       0   \n",
              "3   4  ded by the two detectives. INT. JEFF'S APARTME...  thriller       0   \n",
              "4   5  nd dismounts, just as the other children reach...     drama       0   \n",
              "\n",
              "   adventure  comedy  drama  horror  other  romance  sci-fi  thriller  \n",
              "0          0       0      0       0      0        0       0         1  \n",
              "1          0       1      0       0      0        0       0         0  \n",
              "2          0       0      1       0      0        0       0         0  \n",
              "3          0       0      0       0      0        0       0         1  \n",
              "4          0       0      1       0      0        0       0         0  "
            ]
          },
          "metadata": {},
          "execution_count": 49
        }
      ],
      "metadata": {
        "colab": {
          "base_uri": "https://localhost:8080/",
          "height": 306
        },
        "id": "IPKuDtpR5Psa",
        "outputId": "ac9a6442-4ab7-4d5d-a935-97f5ea501b81"
      }
    },
    {
      "cell_type": "markdown",
      "source": [
        "we dropped the genre column because it was already represented by one hot encoding"
      ],
      "metadata": {}
    },
    {
      "cell_type": "code",
      "execution_count": 50,
      "source": [
        "#drop the genre column\n",
        "new_df.drop(['genre'], axis=1)"
      ],
      "outputs": [
        {
          "output_type": "execute_result",
          "data": {
            "text/html": [
              "<div>\n",
              "<style scoped>\n",
              "    .dataframe tbody tr th:only-of-type {\n",
              "        vertical-align: middle;\n",
              "    }\n",
              "\n",
              "    .dataframe tbody tr th {\n",
              "        vertical-align: top;\n",
              "    }\n",
              "\n",
              "    .dataframe thead th {\n",
              "        text-align: right;\n",
              "    }\n",
              "</style>\n",
              "<table border=\"1\" class=\"dataframe\">\n",
              "  <thead>\n",
              "    <tr style=\"text-align: right;\">\n",
              "      <th></th>\n",
              "      <th>id</th>\n",
              "      <th>text</th>\n",
              "      <th>action</th>\n",
              "      <th>adventure</th>\n",
              "      <th>comedy</th>\n",
              "      <th>drama</th>\n",
              "      <th>horror</th>\n",
              "      <th>other</th>\n",
              "      <th>romance</th>\n",
              "      <th>sci-fi</th>\n",
              "      <th>thriller</th>\n",
              "    </tr>\n",
              "  </thead>\n",
              "  <tbody>\n",
              "    <tr>\n",
              "      <th>0</th>\n",
              "      <td>0</td>\n",
              "      <td>eady dead, maybe even wishing he was. INT. 2ND...</td>\n",
              "      <td>0</td>\n",
              "      <td>0</td>\n",
              "      <td>0</td>\n",
              "      <td>0</td>\n",
              "      <td>0</td>\n",
              "      <td>0</td>\n",
              "      <td>0</td>\n",
              "      <td>0</td>\n",
              "      <td>1</td>\n",
              "    </tr>\n",
              "    <tr>\n",
              "      <th>1</th>\n",
              "      <td>2</td>\n",
              "      <td>t, summa cum laude and all. And I'm about to l...</td>\n",
              "      <td>0</td>\n",
              "      <td>0</td>\n",
              "      <td>1</td>\n",
              "      <td>0</td>\n",
              "      <td>0</td>\n",
              "      <td>0</td>\n",
              "      <td>0</td>\n",
              "      <td>0</td>\n",
              "      <td>0</td>\n",
              "    </tr>\n",
              "    <tr>\n",
              "      <th>2</th>\n",
              "      <td>3</td>\n",
              "      <td>up Come, I have a surprise.... She takes him ...</td>\n",
              "      <td>0</td>\n",
              "      <td>0</td>\n",
              "      <td>0</td>\n",
              "      <td>1</td>\n",
              "      <td>0</td>\n",
              "      <td>0</td>\n",
              "      <td>0</td>\n",
              "      <td>0</td>\n",
              "      <td>0</td>\n",
              "    </tr>\n",
              "    <tr>\n",
              "      <th>3</th>\n",
              "      <td>4</td>\n",
              "      <td>ded by the two detectives. INT. JEFF'S APARTME...</td>\n",
              "      <td>0</td>\n",
              "      <td>0</td>\n",
              "      <td>0</td>\n",
              "      <td>0</td>\n",
              "      <td>0</td>\n",
              "      <td>0</td>\n",
              "      <td>0</td>\n",
              "      <td>0</td>\n",
              "      <td>1</td>\n",
              "    </tr>\n",
              "    <tr>\n",
              "      <th>4</th>\n",
              "      <td>5</td>\n",
              "      <td>nd dismounts, just as the other children reach...</td>\n",
              "      <td>0</td>\n",
              "      <td>0</td>\n",
              "      <td>0</td>\n",
              "      <td>1</td>\n",
              "      <td>0</td>\n",
              "      <td>0</td>\n",
              "      <td>0</td>\n",
              "      <td>0</td>\n",
              "      <td>0</td>\n",
              "    </tr>\n",
              "    <tr>\n",
              "      <th>...</th>\n",
              "      <td>...</td>\n",
              "      <td>...</td>\n",
              "      <td>...</td>\n",
              "      <td>...</td>\n",
              "      <td>...</td>\n",
              "      <td>...</td>\n",
              "      <td>...</td>\n",
              "      <td>...</td>\n",
              "      <td>...</td>\n",
              "      <td>...</td>\n",
              "      <td>...</td>\n",
              "    </tr>\n",
              "    <tr>\n",
              "      <th>22574</th>\n",
              "      <td>28161</td>\n",
              "      <td>n in the world to decide what I'm going to do ...</td>\n",
              "      <td>0</td>\n",
              "      <td>0</td>\n",
              "      <td>0</td>\n",
              "      <td>1</td>\n",
              "      <td>0</td>\n",
              "      <td>0</td>\n",
              "      <td>0</td>\n",
              "      <td>0</td>\n",
              "      <td>0</td>\n",
              "    </tr>\n",
              "    <tr>\n",
              "      <th>22575</th>\n",
              "      <td>28162</td>\n",
              "      <td>shards. BOJO LAZ! Laz pushes Deke back through...</td>\n",
              "      <td>0</td>\n",
              "      <td>0</td>\n",
              "      <td>0</td>\n",
              "      <td>1</td>\n",
              "      <td>0</td>\n",
              "      <td>0</td>\n",
              "      <td>0</td>\n",
              "      <td>0</td>\n",
              "      <td>0</td>\n",
              "    </tr>\n",
              "    <tr>\n",
              "      <th>22576</th>\n",
              "      <td>28163</td>\n",
              "      <td>OTTIE You've got a thing about Ernie's, haven'...</td>\n",
              "      <td>0</td>\n",
              "      <td>0</td>\n",
              "      <td>0</td>\n",
              "      <td>0</td>\n",
              "      <td>0</td>\n",
              "      <td>0</td>\n",
              "      <td>0</td>\n",
              "      <td>0</td>\n",
              "      <td>1</td>\n",
              "    </tr>\n",
              "    <tr>\n",
              "      <th>22577</th>\n",
              "      <td>28165</td>\n",
              "      <td>....with marked skill and dexterity . LANA wry...</td>\n",
              "      <td>1</td>\n",
              "      <td>0</td>\n",
              "      <td>0</td>\n",
              "      <td>0</td>\n",
              "      <td>0</td>\n",
              "      <td>0</td>\n",
              "      <td>0</td>\n",
              "      <td>0</td>\n",
              "      <td>0</td>\n",
              "    </tr>\n",
              "    <tr>\n",
              "      <th>22578</th>\n",
              "      <td>28166</td>\n",
              "      <td>rd walks off down the hallway, leaving his pos...</td>\n",
              "      <td>0</td>\n",
              "      <td>0</td>\n",
              "      <td>1</td>\n",
              "      <td>0</td>\n",
              "      <td>0</td>\n",
              "      <td>0</td>\n",
              "      <td>0</td>\n",
              "      <td>0</td>\n",
              "      <td>0</td>\n",
              "    </tr>\n",
              "  </tbody>\n",
              "</table>\n",
              "<p>22579 rows × 11 columns</p>\n",
              "</div>"
            ],
            "text/plain": [
              "          id                                               text  action  \\\n",
              "0          0  eady dead, maybe even wishing he was. INT. 2ND...       0   \n",
              "1          2  t, summa cum laude and all. And I'm about to l...       0   \n",
              "2          3   up Come, I have a surprise.... She takes him ...       0   \n",
              "3          4  ded by the two detectives. INT. JEFF'S APARTME...       0   \n",
              "4          5  nd dismounts, just as the other children reach...       0   \n",
              "...      ...                                                ...     ...   \n",
              "22574  28161  n in the world to decide what I'm going to do ...       0   \n",
              "22575  28162  shards. BOJO LAZ! Laz pushes Deke back through...       0   \n",
              "22576  28163  OTTIE You've got a thing about Ernie's, haven'...       0   \n",
              "22577  28165  ....with marked skill and dexterity . LANA wry...       1   \n",
              "22578  28166  rd walks off down the hallway, leaving his pos...       0   \n",
              "\n",
              "       adventure  comedy  drama  horror  other  romance  sci-fi  thriller  \n",
              "0              0       0      0       0      0        0       0         1  \n",
              "1              0       1      0       0      0        0       0         0  \n",
              "2              0       0      1       0      0        0       0         0  \n",
              "3              0       0      0       0      0        0       0         1  \n",
              "4              0       0      1       0      0        0       0         0  \n",
              "...          ...     ...    ...     ...    ...      ...     ...       ...  \n",
              "22574          0       0      1       0      0        0       0         0  \n",
              "22575          0       0      1       0      0        0       0         0  \n",
              "22576          0       0      0       0      0        0       0         1  \n",
              "22577          0       0      0       0      0        0       0         0  \n",
              "22578          0       1      0       0      0        0       0         0  \n",
              "\n",
              "[22579 rows x 11 columns]"
            ]
          },
          "metadata": {},
          "execution_count": 50
        }
      ],
      "metadata": {
        "colab": {
          "base_uri": "https://localhost:8080/",
          "height": 521
        },
        "id": "bRVemKNJ5geO",
        "outputId": "0f6e4c37-6dba-4b73-bd96-d16031844da0"
      }
    },
    {
      "cell_type": "markdown",
      "source": [
        "Now, we will apply this four steps which are as follow:\n",
        "1. Cleaning Special Character\n",
        "2. Converting to Lower case\n",
        "3. Removing stopwords\n",
        "4. Stemming"
      ],
      "metadata": {}
    },
    {
      "cell_type": "code",
      "execution_count": null,
      "source": [
        "#Apply text Preprocessing steps\n",
        "import re\n",
        "import nltk\n",
        "from nltk.stem import PorterStemmer #nltk.download('stopwords'),nltk.download('porter_test')\n",
        "from nltk.tokenize import sent_tokenize, word_tokenize #nltk.download('punkt')\n",
        "\n",
        "porter = PorterStemmer()\n",
        "\n",
        "def stemSentence(sentence):\n",
        "    token_words=word_tokenize(sentence)\n",
        "    token_words\n",
        "    stem_sentence=[]\n",
        "    for word in token_words:\n",
        "        stem_sentence.append(porter.stem(word))\n",
        "        stem_sentence.append(\" \")\n",
        "    return \"\".join(stem_sentence)\n",
        "\n",
        "stopwords = nltk.corpus.stopwords.words('english')\n",
        "\n",
        "for i in range(df.shape[0]):\n",
        "\n",
        "    #converting to lower case\n",
        "    new_df.text[i] = new_df.text[i].lower()\n",
        "    \n",
        "    #cleaning special character\n",
        "    new_df.text[i] = re.sub(r\"[^a-zA-Z0-9]\",\" \",new_df.text[i])\n",
        "\n",
        "\n",
        "    #removing stopwords\n",
        "    text_tokens = word_tokenize(new_df.text[i])\n",
        "    tokens_without_sw = [word for word in text_tokens if not word in stopwords]\n",
        "    new_df.text[i] = (\" \").join(tokens_without_sw)\n",
        "\n",
        "    #stemming \n",
        "    new_df.text[i] = stemSentence(new_df.text[i])\n",
        "\n"
      ],
      "outputs": [],
      "metadata": {}
    },
    {
      "cell_type": "code",
      "execution_count": 92,
      "source": [
        "#converting a dataframe columns into feature and label in array format\n",
        "feature = new_df['text'].values\n",
        "label = new_df[['action','adventure','comedy','drama','horror','other','romance','sci-fi','thriller']]"
      ],
      "outputs": [],
      "metadata": {
        "id": "ocmlAL3u59oT"
      }
    },
    {
      "cell_type": "code",
      "execution_count": 93,
      "source": [
        "#Split data into train and test data\n",
        "from sklearn.model_selection import train_test_split\n",
        "feature_train, feature_test, label_train, label_test = train_test_split(feature, label, test_size=0.2)\n"
      ],
      "outputs": [],
      "metadata": {
        "id": "2P-HTfs87Dpm"
      }
    },
    {
      "cell_type": "markdown",
      "source": [
        "# Convert strings into numeric values\n",
        "\n",
        "Machine learning model can't process an input in strings format,\n",
        "therefore we need to convert it to numeric format.\n",
        "\n",
        "In this case we transform strings to numeric with tokenizer"
      ],
      "metadata": {
        "id": "jgFoBxjX9IS1"
      }
    },
    {
      "cell_type": "code",
      "execution_count": 94,
      "source": [
        "#convert string to numeric values with tokenizer \n",
        "tokenizer = Tokenizer(num_words=5000, oov_token='x')\n",
        "tokenizer.fit_on_texts(feature_train) \n",
        "tokenizer.fit_on_texts(feature_test) \n",
        " \n",
        "#convert to sequences \n",
        "sequences_train = tokenizer.texts_to_sequences(feature_train)\n",
        "sequences_test = tokenizer.texts_to_sequences(feature_test)\n",
        "\n",
        "#padding\n",
        "padded_train = pad_sequences(sequences_train) \n",
        "padded_test = pad_sequences(sequences_test) \n"
      ],
      "outputs": [],
      "metadata": {
        "id": "lpj2Aauj9H6_"
      }
    },
    {
      "cell_type": "markdown",
      "source": [
        "# Build a Model\n",
        "\n",
        "In this step we will build a neural network machine learning model \n",
        "\n",
        "we will perform multiclass text classification using lstm. \n"
      ],
      "metadata": {
        "id": "uqm54JAUBsqK"
      }
    },
    {
      "cell_type": "markdown",
      "source": [
        "we use callback to prevent model from overfitting"
      ],
      "metadata": {}
    },
    {
      "cell_type": "code",
      "execution_count": 96,
      "source": [
        "#use callback function\n",
        "\n",
        "class myCallback(tf.keras.callbacks.Callback):\n",
        "  def on_epoch_end(self, epoch, logs={}):\n",
        "    if(logs.get('val_accuracy') > 0.8 and logs.get('accuracy') > 0.8):\n",
        "      print(\"\\ Stop training!\")\n",
        "      self.model.stop_training = True\n",
        "\n",
        "callbacks = myCallback()"
      ],
      "outputs": [],
      "metadata": {
        "id": "wXJUo6aMBFls"
      }
    },
    {
      "cell_type": "markdown",
      "source": [
        "Our model architecture uses an Embedding layer with an embedding dimension of 16, \n",
        "\n",
        "and the dimensions of the input are equal to the num_words value in the tokenizer object. "
      ],
      "metadata": {}
    },
    {
      "cell_type": "code",
      "execution_count": 97,
      "source": [
        "#membangun arsitektur model\n",
        "\n",
        "model = tf.keras.Sequential([\n",
        "    tf.keras.layers.Embedding(input_dim=5000, output_dim=16),\n",
        "    tf.keras.layers.LSTM(64),\n",
        "    tf.keras.layers.Dense(128, activation='relu'),\n",
        "    tf.keras.layers.Dense(64, activation='relu'),\n",
        "    tf.keras.layers.Dense(9, activation='softmax')\n",
        "])\n",
        "model.compile(loss='categorical_crossentropy',optimizer='adam',metrics=['accuracy'])"
      ],
      "outputs": [],
      "metadata": {
        "id": "SZ_kG2CMBme8"
      }
    },
    {
      "cell_type": "code",
      "execution_count": 98,
      "source": [
        "model.summary()"
      ],
      "outputs": [
        {
          "output_type": "stream",
          "name": "stdout",
          "text": [
            "Model: \"sequential_1\"\n",
            "_________________________________________________________________\n",
            "Layer (type)                 Output Shape              Param #   \n",
            "=================================================================\n",
            "embedding_1 (Embedding)      (None, None, 16)          80000     \n",
            "_________________________________________________________________\n",
            "lstm_1 (LSTM)                (None, 64)                20736     \n",
            "_________________________________________________________________\n",
            "dense_3 (Dense)              (None, 128)               8320      \n",
            "_________________________________________________________________\n",
            "dense_4 (Dense)              (None, 64)                8256      \n",
            "_________________________________________________________________\n",
            "dense_5 (Dense)              (None, 9)                 585       \n",
            "=================================================================\n",
            "Total params: 117,897\n",
            "Trainable params: 117,897\n",
            "Non-trainable params: 0\n",
            "_________________________________________________________________\n"
          ]
        }
      ],
      "metadata": {
        "colab": {
          "base_uri": "https://localhost:8080/"
        },
        "id": "TWVXh3BPGRW9",
        "outputId": "74f586e9-93a7-4282-a6eb-42acb958b081"
      }
    },
    {
      "cell_type": "markdown",
      "source": [
        "Train model"
      ],
      "metadata": {}
    },
    {
      "cell_type": "code",
      "execution_count": 99,
      "source": [
        "history = model.fit(\n",
        "    padded_train,\n",
        "    label_train, \n",
        "    epochs=40, \n",
        "    validation_data=(padded_test,label_test), \n",
        "    verbose=2,\n",
        "    callbacks=[callbacks]\n",
        "    )"
      ],
      "outputs": [
        {
          "output_type": "stream",
          "name": "stderr",
          "text": [
            "2021-09-28 13:44:32.190767: I tensorflow/compiler/mlir/mlir_graph_optimization_pass.cc:176] None of the MLIR Optimization Passes are enabled (registered 2)\n",
            "2021-09-28 13:44:32.195797: W tensorflow/core/platform/profile_utils/cpu_utils.cc:128] Failed to get CPU frequency: 0 Hz\n"
          ]
        },
        {
          "output_type": "stream",
          "name": "stdout",
          "text": [
            "Epoch 1/40\n",
            "565/565 - 18s - loss: 1.3813 - accuracy: 0.4217 - val_loss: 1.1584 - val_accuracy: 0.4267\n",
            "Epoch 2/40\n",
            "565/565 - 17s - loss: 0.8954 - accuracy: 0.6503 - val_loss: 0.8112 - val_accuracy: 0.7210\n",
            "Epoch 3/40\n",
            "565/565 - 18s - loss: 0.5708 - accuracy: 0.8116 - val_loss: 0.6314 - val_accuracy: 0.7965\n",
            "Epoch 4/40\n",
            "565/565 - 17s - loss: 0.4420 - accuracy: 0.8556 - val_loss: 0.6053 - val_accuracy: 0.8133\n",
            "\\ Stop training!\n"
          ]
        }
      ],
      "metadata": {
        "colab": {
          "base_uri": "https://localhost:8080/"
        },
        "id": "M_ITlQuJCAjH",
        "outputId": "f293d897-3312-437a-96d6-a4655ef0fca0"
      }
    },
    {
      "cell_type": "markdown",
      "source": [
        "here we got 85% of accuracy on training data and 81% percent accuracy on validation data"
      ],
      "metadata": {}
    },
    {
      "cell_type": "markdown",
      "source": [
        "# Plot accuracy and Plot Loss\n",
        "\n",
        "now we are going to see the coomparison of accuracy and loss of the model in training and validation data"
      ],
      "metadata": {
        "id": "lOibQmaiHJpS"
      }
    },
    {
      "cell_type": "code",
      "execution_count": 100,
      "source": [
        "#graphic of model accuracy\n",
        "\n",
        "plt.plot(history.history['accuracy'], label='Training Accuracy')\n",
        "plt.plot(history.history['val_accuracy'], label='Validation Accuracy')\n",
        "plt.title('Accuracy Plot')\n",
        "plt.ylabel('Value')\n",
        "plt.xlabel('Epoch')\n",
        "plt.legend(loc=\"lower right\")\n",
        "plt.show()"
      ],
      "outputs": [
        {
          "output_type": "display_data",
          "data": {
            "image/png": "[encoded data removed]",
            "text/plain": [
              "<Figure size 432x288 with 1 Axes>"
            ]
          },
          "metadata": {
            "needs_background": "light"
          }
        }
      ],
      "metadata": {
        "colab": {
          "base_uri": "https://localhost:8080/",
          "height": 295
        },
        "id": "SX6LG5RqHEJw",
        "outputId": "834870b6-d440-4c42-a1d5-64f7d34b6eb9"
      }
    },
    {
      "cell_type": "code",
      "execution_count": 101,
      "source": [
        "#graphic of model loss\n",
        "\n",
        "plt.plot(history.history['loss'], label='Training loss')\n",
        "plt.plot(history.history['val_loss'], label='Validation loss')\n",
        "plt.title('Loss Plot')\n",
        "plt.ylabel('Value')\n",
        "plt.xlabel('Epoch')\n",
        "plt.legend(loc=\"lower right\")\n",
        "plt.show()"
      ],
      "outputs": [
        {
          "output_type": "display_data",
          "data": {
            "image/png": "[encoded data removed]",
            "text/plain": [
              "<Figure size 432x288 with 1 Axes>"
            ]
          },
          "metadata": {
            "needs_background": "light"
          }
        }
      ],
      "metadata": {
        "colab": {
          "base_uri": "https://localhost:8080/",
          "height": 295
        },
        "id": "drRadeIOHbOp",
        "outputId": "db909324-3c3c-44f7-e27b-be3db80ad7ce"
      }
    }
  ]
}